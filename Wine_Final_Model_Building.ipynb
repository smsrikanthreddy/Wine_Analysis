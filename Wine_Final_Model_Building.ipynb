{
 "cells": [
  {
   "cell_type": "code",
   "execution_count": 41,
   "metadata": {},
   "outputs": [],
   "source": [
    "import pandas as pd\n",
    "import numpy as np\n",
    "\n",
    "from sklearn.ensemble import RandomForestClassifier\n",
    "from sklearn.linear_model import LogisticRegression\n",
    "\n",
    "\n",
    "from sklearn.grid_search import GridSearchCV\n",
    "from sklearn.metrics import accuracy_score\n",
    "from sklearn.metrics import confusion_matrix\n",
    "from sklearn.model_selection import train_test_split\n",
    "\n",
    "import xgboost as xgb\n",
    "import lightgbm as lgb\n",
    "\n",
    "import seaborn as sns\n",
    "%matplotlib inline"
   ]
  },
  {
   "cell_type": "code",
   "execution_count": 42,
   "metadata": {
    "collapsed": true
   },
   "outputs": [],
   "source": [
    "DATAPATH = 'data/final_preprocessed.csv'\n",
    "data = pd.read_csv(DATAPATH)"
   ]
  },
  {
   "cell_type": "code",
   "execution_count": 43,
   "metadata": {},
   "outputs": [
    {
     "data": {
      "text/html": [
       "<div>\n",
       "<style>\n",
       "    .dataframe thead tr:only-child th {\n",
       "        text-align: right;\n",
       "    }\n",
       "\n",
       "    .dataframe thead th {\n",
       "        text-align: left;\n",
       "    }\n",
       "\n",
       "    .dataframe tbody tr th {\n",
       "        vertical-align: top;\n",
       "    }\n",
       "</style>\n",
       "<table border=\"1\" class=\"dataframe\">\n",
       "  <thead>\n",
       "    <tr style=\"text-align: right;\">\n",
       "      <th></th>\n",
       "      <th>quality</th>\n",
       "      <th>style</th>\n",
       "      <th>norm_fixed_acidity</th>\n",
       "      <th>norm_volatile_acidity</th>\n",
       "      <th>norm_citric_acid</th>\n",
       "      <th>norm_residual_sugar</th>\n",
       "      <th>norm_chlorides</th>\n",
       "      <th>norm_free_sulfur_dioxide</th>\n",
       "      <th>norm_total_sulfur_dioxide</th>\n",
       "      <th>norm_density</th>\n",
       "      <th>norm_pH</th>\n",
       "      <th>norm_sulphates</th>\n",
       "      <th>norm_alcohol</th>\n",
       "    </tr>\n",
       "  </thead>\n",
       "  <tbody>\n",
       "    <tr>\n",
       "      <th>0</th>\n",
       "      <td>0</td>\n",
       "      <td>0</td>\n",
       "      <td>0.297521</td>\n",
       "      <td>0.413333</td>\n",
       "      <td>0.000000</td>\n",
       "      <td>0.019939</td>\n",
       "      <td>0.111296</td>\n",
       "      <td>0.034722</td>\n",
       "      <td>0.064516</td>\n",
       "      <td>0.206092</td>\n",
       "      <td>0.612403</td>\n",
       "      <td>0.191011</td>\n",
       "      <td>0.202899</td>\n",
       "    </tr>\n",
       "    <tr>\n",
       "      <th>1</th>\n",
       "      <td>0</td>\n",
       "      <td>0</td>\n",
       "      <td>0.330579</td>\n",
       "      <td>0.533333</td>\n",
       "      <td>0.000000</td>\n",
       "      <td>0.030675</td>\n",
       "      <td>0.147841</td>\n",
       "      <td>0.083333</td>\n",
       "      <td>0.140553</td>\n",
       "      <td>0.186813</td>\n",
       "      <td>0.372093</td>\n",
       "      <td>0.258427</td>\n",
       "      <td>0.260870</td>\n",
       "    </tr>\n",
       "    <tr>\n",
       "      <th>2</th>\n",
       "      <td>0</td>\n",
       "      <td>0</td>\n",
       "      <td>0.330579</td>\n",
       "      <td>0.453333</td>\n",
       "      <td>0.024096</td>\n",
       "      <td>0.026074</td>\n",
       "      <td>0.137874</td>\n",
       "      <td>0.048611</td>\n",
       "      <td>0.110599</td>\n",
       "      <td>0.190669</td>\n",
       "      <td>0.418605</td>\n",
       "      <td>0.241573</td>\n",
       "      <td>0.260870</td>\n",
       "    </tr>\n",
       "    <tr>\n",
       "      <th>3</th>\n",
       "      <td>1</td>\n",
       "      <td>0</td>\n",
       "      <td>0.611570</td>\n",
       "      <td>0.133333</td>\n",
       "      <td>0.337349</td>\n",
       "      <td>0.019939</td>\n",
       "      <td>0.109635</td>\n",
       "      <td>0.055556</td>\n",
       "      <td>0.124424</td>\n",
       "      <td>0.209948</td>\n",
       "      <td>0.341085</td>\n",
       "      <td>0.202247</td>\n",
       "      <td>0.260870</td>\n",
       "    </tr>\n",
       "    <tr>\n",
       "      <th>4</th>\n",
       "      <td>0</td>\n",
       "      <td>0</td>\n",
       "      <td>0.297521</td>\n",
       "      <td>0.413333</td>\n",
       "      <td>0.000000</td>\n",
       "      <td>0.019939</td>\n",
       "      <td>0.111296</td>\n",
       "      <td>0.034722</td>\n",
       "      <td>0.064516</td>\n",
       "      <td>0.206092</td>\n",
       "      <td>0.612403</td>\n",
       "      <td>0.191011</td>\n",
       "      <td>0.202899</td>\n",
       "    </tr>\n",
       "  </tbody>\n",
       "</table>\n",
       "</div>"
      ],
      "text/plain": [
       "   quality  style  norm_fixed_acidity  norm_volatile_acidity  \\\n",
       "0        0      0            0.297521               0.413333   \n",
       "1        0      0            0.330579               0.533333   \n",
       "2        0      0            0.330579               0.453333   \n",
       "3        1      0            0.611570               0.133333   \n",
       "4        0      0            0.297521               0.413333   \n",
       "\n",
       "   norm_citric_acid  norm_residual_sugar  norm_chlorides  \\\n",
       "0          0.000000             0.019939        0.111296   \n",
       "1          0.000000             0.030675        0.147841   \n",
       "2          0.024096             0.026074        0.137874   \n",
       "3          0.337349             0.019939        0.109635   \n",
       "4          0.000000             0.019939        0.111296   \n",
       "\n",
       "   norm_free_sulfur_dioxide  norm_total_sulfur_dioxide  norm_density  \\\n",
       "0                  0.034722                   0.064516      0.206092   \n",
       "1                  0.083333                   0.140553      0.186813   \n",
       "2                  0.048611                   0.110599      0.190669   \n",
       "3                  0.055556                   0.124424      0.209948   \n",
       "4                  0.034722                   0.064516      0.206092   \n",
       "\n",
       "    norm_pH  norm_sulphates  norm_alcohol  \n",
       "0  0.612403        0.191011      0.202899  \n",
       "1  0.372093        0.258427      0.260870  \n",
       "2  0.418605        0.241573      0.260870  \n",
       "3  0.341085        0.202247      0.260870  \n",
       "4  0.612403        0.191011      0.202899  "
      ]
     },
     "execution_count": 43,
     "metadata": {},
     "output_type": "execute_result"
    }
   ],
   "source": [
    "data = data.iloc[:,1:]\n",
    "data.head()"
   ]
  },
  {
   "cell_type": "code",
   "execution_count": 44,
   "metadata": {
    "collapsed": true
   },
   "outputs": [],
   "source": [
    "y = data['quality']\n",
    "X = data.drop('quality', axis=1)"
   ]
  },
  {
   "cell_type": "code",
   "execution_count": 45,
   "metadata": {},
   "outputs": [
    {
     "data": {
      "text/html": [
       "<div>\n",
       "<style>\n",
       "    .dataframe thead tr:only-child th {\n",
       "        text-align: right;\n",
       "    }\n",
       "\n",
       "    .dataframe thead th {\n",
       "        text-align: left;\n",
       "    }\n",
       "\n",
       "    .dataframe tbody tr th {\n",
       "        vertical-align: top;\n",
       "    }\n",
       "</style>\n",
       "<table border=\"1\" class=\"dataframe\">\n",
       "  <thead>\n",
       "    <tr style=\"text-align: right;\">\n",
       "      <th></th>\n",
       "      <th>style</th>\n",
       "      <th>norm_fixed_acidity</th>\n",
       "      <th>norm_volatile_acidity</th>\n",
       "      <th>norm_citric_acid</th>\n",
       "      <th>norm_residual_sugar</th>\n",
       "      <th>norm_chlorides</th>\n",
       "      <th>norm_free_sulfur_dioxide</th>\n",
       "      <th>norm_total_sulfur_dioxide</th>\n",
       "      <th>norm_density</th>\n",
       "      <th>norm_pH</th>\n",
       "      <th>norm_sulphates</th>\n",
       "      <th>norm_alcohol</th>\n",
       "    </tr>\n",
       "  </thead>\n",
       "  <tbody>\n",
       "    <tr>\n",
       "      <th>0</th>\n",
       "      <td>0</td>\n",
       "      <td>0.297521</td>\n",
       "      <td>0.413333</td>\n",
       "      <td>0.000000</td>\n",
       "      <td>0.019939</td>\n",
       "      <td>0.111296</td>\n",
       "      <td>0.034722</td>\n",
       "      <td>0.064516</td>\n",
       "      <td>0.206092</td>\n",
       "      <td>0.612403</td>\n",
       "      <td>0.191011</td>\n",
       "      <td>0.202899</td>\n",
       "    </tr>\n",
       "    <tr>\n",
       "      <th>1</th>\n",
       "      <td>0</td>\n",
       "      <td>0.330579</td>\n",
       "      <td>0.533333</td>\n",
       "      <td>0.000000</td>\n",
       "      <td>0.030675</td>\n",
       "      <td>0.147841</td>\n",
       "      <td>0.083333</td>\n",
       "      <td>0.140553</td>\n",
       "      <td>0.186813</td>\n",
       "      <td>0.372093</td>\n",
       "      <td>0.258427</td>\n",
       "      <td>0.260870</td>\n",
       "    </tr>\n",
       "    <tr>\n",
       "      <th>2</th>\n",
       "      <td>0</td>\n",
       "      <td>0.330579</td>\n",
       "      <td>0.453333</td>\n",
       "      <td>0.024096</td>\n",
       "      <td>0.026074</td>\n",
       "      <td>0.137874</td>\n",
       "      <td>0.048611</td>\n",
       "      <td>0.110599</td>\n",
       "      <td>0.190669</td>\n",
       "      <td>0.418605</td>\n",
       "      <td>0.241573</td>\n",
       "      <td>0.260870</td>\n",
       "    </tr>\n",
       "    <tr>\n",
       "      <th>3</th>\n",
       "      <td>0</td>\n",
       "      <td>0.611570</td>\n",
       "      <td>0.133333</td>\n",
       "      <td>0.337349</td>\n",
       "      <td>0.019939</td>\n",
       "      <td>0.109635</td>\n",
       "      <td>0.055556</td>\n",
       "      <td>0.124424</td>\n",
       "      <td>0.209948</td>\n",
       "      <td>0.341085</td>\n",
       "      <td>0.202247</td>\n",
       "      <td>0.260870</td>\n",
       "    </tr>\n",
       "    <tr>\n",
       "      <th>4</th>\n",
       "      <td>0</td>\n",
       "      <td>0.297521</td>\n",
       "      <td>0.413333</td>\n",
       "      <td>0.000000</td>\n",
       "      <td>0.019939</td>\n",
       "      <td>0.111296</td>\n",
       "      <td>0.034722</td>\n",
       "      <td>0.064516</td>\n",
       "      <td>0.206092</td>\n",
       "      <td>0.612403</td>\n",
       "      <td>0.191011</td>\n",
       "      <td>0.202899</td>\n",
       "    </tr>\n",
       "  </tbody>\n",
       "</table>\n",
       "</div>"
      ],
      "text/plain": [
       "   style  norm_fixed_acidity  norm_volatile_acidity  norm_citric_acid  \\\n",
       "0      0            0.297521               0.413333          0.000000   \n",
       "1      0            0.330579               0.533333          0.000000   \n",
       "2      0            0.330579               0.453333          0.024096   \n",
       "3      0            0.611570               0.133333          0.337349   \n",
       "4      0            0.297521               0.413333          0.000000   \n",
       "\n",
       "   norm_residual_sugar  norm_chlorides  norm_free_sulfur_dioxide  \\\n",
       "0             0.019939        0.111296                  0.034722   \n",
       "1             0.030675        0.147841                  0.083333   \n",
       "2             0.026074        0.137874                  0.048611   \n",
       "3             0.019939        0.109635                  0.055556   \n",
       "4             0.019939        0.111296                  0.034722   \n",
       "\n",
       "   norm_total_sulfur_dioxide  norm_density   norm_pH  norm_sulphates  \\\n",
       "0                   0.064516      0.206092  0.612403        0.191011   \n",
       "1                   0.140553      0.186813  0.372093        0.258427   \n",
       "2                   0.110599      0.190669  0.418605        0.241573   \n",
       "3                   0.124424      0.209948  0.341085        0.202247   \n",
       "4                   0.064516      0.206092  0.612403        0.191011   \n",
       "\n",
       "   norm_alcohol  \n",
       "0      0.202899  \n",
       "1      0.260870  \n",
       "2      0.260870  \n",
       "3      0.260870  \n",
       "4      0.202899  "
      ]
     },
     "execution_count": 45,
     "metadata": {},
     "output_type": "execute_result"
    }
   ],
   "source": [
    "X.head()"
   ]
  },
  {
   "cell_type": "code",
   "execution_count": 46,
   "metadata": {},
   "outputs": [
    {
     "data": {
      "text/plain": [
       "0    0\n",
       "1    0\n",
       "2    0\n",
       "3    1\n",
       "4    0\n",
       "Name: quality, dtype: int64"
      ]
     },
     "execution_count": 46,
     "metadata": {},
     "output_type": "execute_result"
    }
   ],
   "source": [
    "y.head()"
   ]
  },
  {
   "cell_type": "markdown",
   "metadata": {},
   "source": [
    "### lets jump into different classifiers"
   ]
  },
  {
   "cell_type": "markdown",
   "metadata": {},
   "source": [
    "#### 1. Random Forest Classifier"
   ]
  },
  {
   "cell_type": "code",
   "execution_count": 47,
   "metadata": {},
   "outputs": [
    {
     "data": {
      "text/plain": [
       "RandomForestClassifier(bootstrap=True, class_weight=None, criterion='gini',\n",
       "            max_depth=10, max_features='auto', max_leaf_nodes=None,\n",
       "            min_impurity_decrease=0.0, min_impurity_split=None,\n",
       "            min_samples_leaf=1, min_samples_split=2,\n",
       "            min_weight_fraction_leaf=0.0, n_estimators=100, n_jobs=1,\n",
       "            oob_score=False, random_state=0, verbose=0, warm_start=False)"
      ]
     },
     "execution_count": 47,
     "metadata": {},
     "output_type": "execute_result"
    }
   ],
   "source": [
    "rf_clf = RandomForestClassifier(n_estimators=100, max_depth=10, random_state=0)\n",
    "rf_clf.fit(X, y)\n",
    "#increasing depth yields better accuracy"
   ]
  },
  {
   "cell_type": "code",
   "execution_count": 48,
   "metadata": {},
   "outputs": [
    {
     "name": "stdout",
     "output_type": "stream",
     "text": [
      "random forest training accuracy 0.8482376481452978\n"
     ]
    }
   ],
   "source": [
    "rf_probs = rf_clf.predict(X)\n",
    "print('random forest training accuracy {}'.format(accuracy_score(y, rf_probs)))"
   ]
  },
  {
   "cell_type": "code",
   "execution_count": 49,
   "metadata": {},
   "outputs": [
    {
     "data": {
      "text/plain": [
       "[('style', 0.004379549937571535),\n",
       " ('norm_fixed_acidity', 0.059556179237053905),\n",
       " ('norm_volatile_acidity', 0.11792174426509526),\n",
       " ('norm_citric_acid', 0.07299350930921135),\n",
       " ('norm_residual_sugar', 0.0712487852979196),\n",
       " ('norm_chlorides', 0.07994144859693195),\n",
       " ('norm_free_sulfur_dioxide', 0.07593316794606204),\n",
       " ('norm_total_sulfur_dioxide', 0.07541473729302452),\n",
       " ('norm_density', 0.10189172654316538),\n",
       " ('norm_pH', 0.0675307898466862),\n",
       " ('norm_sulphates', 0.07517891236900988),\n",
       " ('norm_alcohol', 0.19800944935826834)]"
      ]
     },
     "execution_count": 49,
     "metadata": {},
     "output_type": "execute_result"
    }
   ],
   "source": [
    "list(zip(X, rf_clf.feature_importances_))"
   ]
  },
  {
   "cell_type": "code",
   "execution_count": 50,
   "metadata": {},
   "outputs": [
    {
     "data": {
      "text/html": [
       "<div>\n",
       "<style>\n",
       "    .dataframe thead tr:only-child th {\n",
       "        text-align: right;\n",
       "    }\n",
       "\n",
       "    .dataframe thead th {\n",
       "        text-align: left;\n",
       "    }\n",
       "\n",
       "    .dataframe tbody tr th {\n",
       "        vertical-align: top;\n",
       "    }\n",
       "</style>\n",
       "<table border=\"1\" class=\"dataframe\">\n",
       "  <thead>\n",
       "    <tr style=\"text-align: right;\">\n",
       "      <th></th>\n",
       "      <th>0</th>\n",
       "      <th>1</th>\n",
       "      <th>2</th>\n",
       "    </tr>\n",
       "  </thead>\n",
       "  <tbody>\n",
       "    <tr>\n",
       "      <th>0</th>\n",
       "      <td>2067</td>\n",
       "      <td>302</td>\n",
       "      <td>15</td>\n",
       "    </tr>\n",
       "    <tr>\n",
       "      <th>1</th>\n",
       "      <td>255</td>\n",
       "      <td>2524</td>\n",
       "      <td>57</td>\n",
       "    </tr>\n",
       "    <tr>\n",
       "      <th>2</th>\n",
       "      <td>27</td>\n",
       "      <td>330</td>\n",
       "      <td>920</td>\n",
       "    </tr>\n",
       "  </tbody>\n",
       "</table>\n",
       "</div>"
      ],
      "text/plain": [
       "      0     1    2\n",
       "0  2067   302   15\n",
       "1   255  2524   57\n",
       "2    27   330  920"
      ]
     },
     "execution_count": 50,
     "metadata": {},
     "output_type": "execute_result"
    }
   ],
   "source": [
    "#confusion matrix\n",
    "cm = pd.DataFrame(confusion_matrix(y, rf_probs))\n",
    "cm"
   ]
  },
  {
   "cell_type": "markdown",
   "metadata": {},
   "source": [
    "#### 2. Logistic Regression"
   ]
  },
  {
   "cell_type": "code",
   "execution_count": 51,
   "metadata": {},
   "outputs": [
    {
     "data": {
      "text/plain": [
       "LogisticRegression(C=1.0, class_weight=None, dual=False, fit_intercept=True,\n",
       "          intercept_scaling=1, max_iter=100, multi_class='ovr', n_jobs=1,\n",
       "          penalty='l2', random_state=None, solver='liblinear', tol=0.0001,\n",
       "          verbose=0, warm_start=False)"
      ]
     },
     "execution_count": 51,
     "metadata": {},
     "output_type": "execute_result"
    }
   ],
   "source": [
    "lr_clf = LogisticRegression(penalty='l2',  C=1.0)\n",
    "lr_clf.fit(X, y)"
   ]
  },
  {
   "cell_type": "code",
   "execution_count": 52,
   "metadata": {},
   "outputs": [
    {
     "name": "stdout",
     "output_type": "stream",
     "text": [
      "random forest training accuracy 0.5838079113436971\n"
     ]
    }
   ],
   "source": [
    "lr_probs = lr_clf.predict(X)\n",
    "print('random forest training accuracy {}'.format(accuracy_score(y, lr_probs)))"
   ]
  },
  {
   "cell_type": "markdown",
   "metadata": {},
   "source": [
    "#### 3. XGBoost"
   ]
  },
  {
   "cell_type": "code",
   "execution_count": 53,
   "metadata": {
    "collapsed": true
   },
   "outputs": [],
   "source": [
    "# This example uses the current build of XGBoost, from https://github.com/dmlc/xgboost\n",
    "xgb_clf = xgb.XGBClassifier(max_depth=7, n_estimators=1000, learning_rate=0.01, subsample=0.9, nthread=4,\n",
    "                            colsample_bytree=0.9, min_child_weight=1)"
   ]
  },
  {
   "cell_type": "code",
   "execution_count": 54,
   "metadata": {},
   "outputs": [
    {
     "data": {
      "text/plain": [
       "XGBClassifier(base_score=0.5, colsample_bylevel=1, colsample_bytree=0.9,\n",
       "       gamma=0, learning_rate=0.01, max_delta_step=0, max_depth=7,\n",
       "       min_child_weight=1, missing=None, n_estimators=1000, nthread=4,\n",
       "       objective='multi:softprob', reg_alpha=0, reg_lambda=1,\n",
       "       scale_pos_weight=1, seed=0, silent=True, subsample=0.9)"
      ]
     },
     "execution_count": 54,
     "metadata": {},
     "output_type": "execute_result"
    }
   ],
   "source": [
    "xgb_clf.fit(X, y)"
   ]
  },
  {
   "cell_type": "code",
   "execution_count": 55,
   "metadata": {},
   "outputs": [
    {
     "name": "stdout",
     "output_type": "stream",
     "text": [
      "XGB training accuracy 0.9287363398491612\n"
     ]
    },
    {
     "name": "stderr",
     "output_type": "stream",
     "text": [
      "/Users/srikanth_m07/anaconda3/lib/python3.6/site-packages/sklearn/preprocessing/label.py:151: DeprecationWarning: The truth value of an empty array is ambiguous. Returning False, but in future this will result in an error. Use `array.size > 0` to check that an array is not empty.\n",
      "  if diff:\n"
     ]
    }
   ],
   "source": [
    "xgb_probs = xgb_clf.predict(X)\n",
    "print('XGB training accuracy {}'.format(accuracy_score(y, xgb_probs)))"
   ]
  },
  {
   "cell_type": "markdown",
   "metadata": {},
   "source": [
    "#### 4. lightGBM"
   ]
  },
  {
   "cell_type": "code",
   "execution_count": 56,
   "metadata": {
    "collapsed": true
   },
   "outputs": [],
   "source": [
    "param = {'num_leaves':150, 'objective':'multiclass','max_depth':9,'learning_rate':.05,'max_bin':200,'num_threads':4,\n",
    "        'num_class':3, 'metric':'multi_logloss'}"
   ]
  },
  {
   "cell_type": "code",
   "execution_count": 57,
   "metadata": {
    "collapsed": true
   },
   "outputs": [],
   "source": [
    "num_round = 50\n",
    "train_data = lgb.Dataset(X,label=y)\n",
    "lgbm_clf = lgb.train(param,train_data,num_round)"
   ]
  },
  {
   "cell_type": "code",
   "execution_count": 58,
   "metadata": {
    "collapsed": true
   },
   "outputs": [],
   "source": [
    "lgbm_probs = lgbm_clf.predict(X)\n",
    "lgb_scores = [np.argmax(line) for line in lgbm_probs]"
   ]
  },
  {
   "cell_type": "code",
   "execution_count": 59,
   "metadata": {},
   "outputs": [
    {
     "name": "stdout",
     "output_type": "stream",
     "text": [
      "LightGBM training accuracy 0.8351546867785131\n"
     ]
    }
   ],
   "source": [
    "print('LightGBM training accuracy {}'.format(accuracy_score(y, lgb_scores)))"
   ]
  },
  {
   "cell_type": "markdown",
   "metadata": {},
   "source": [
    "#### Accuracy details<br>\n",
    "Random Forest after better parametre tuning giving accuracy of 84.8% <br>\n",
    "Logistic Regression after better parametre tuning giving accuracy of 58.36% <br>\n",
    "Random Forest after better parametre tuning giving accuracy of 92.8% <br>\n",
    "Random Forest after better parametre tuning giving accuracy of 83.5% <br>"
   ]
  },
  {
   "cell_type": "code",
   "execution_count": 60,
   "metadata": {
    "collapsed": true
   },
   "outputs": [],
   "source": [
    "#splitting into train and test 90-10\n",
    "X_train, X_test, y_train, y_test = train_test_split(X, y, test_size=0.10, random_state=42)"
   ]
  },
  {
   "cell_type": "code",
   "execution_count": 61,
   "metadata": {},
   "outputs": [
    {
     "data": {
      "text/plain": [
       "((5847, 12), (5847,), (650, 12), (650,))"
      ]
     },
     "execution_count": 61,
     "metadata": {},
     "output_type": "execute_result"
    }
   ],
   "source": [
    "X_train.shape, y_train.shape, X_test.shape, y_test.shape"
   ]
  },
  {
   "cell_type": "code",
   "execution_count": 62,
   "metadata": {},
   "outputs": [
    {
     "name": "stdout",
     "output_type": "stream",
     "text": [
      "random forest training accuracy 0.8556524713528305\n",
      "random forest testing accuracy 0.6584615384615384\n"
     ]
    }
   ],
   "source": [
    "### Random Forest\n",
    "rf_clf = RandomForestClassifier(n_estimators=100, max_depth=10, random_state=0)\n",
    "rf_clf.fit(X_train, y_train)\n",
    "rf_probs1 = rf_clf.predict(X_train)\n",
    "print('random forest training accuracy {}'.format(accuracy_score(y_train, rf_probs1)))\n",
    "rf_probs2 = rf_clf.predict(X_test)\n",
    "print('random forest testing accuracy {}'.format(accuracy_score(y_test, rf_probs2)))"
   ]
  },
  {
   "cell_type": "code",
   "execution_count": 63,
   "metadata": {},
   "outputs": [
    {
     "name": "stdout",
     "output_type": "stream",
     "text": [
      "XGBoost training accuracy 0.9368907131862494\n",
      "XGBoost testing accuracy 0.7138461538461538\n"
     ]
    },
    {
     "name": "stderr",
     "output_type": "stream",
     "text": [
      "/Users/srikanth_m07/anaconda3/lib/python3.6/site-packages/sklearn/preprocessing/label.py:151: DeprecationWarning: The truth value of an empty array is ambiguous. Returning False, but in future this will result in an error. Use `array.size > 0` to check that an array is not empty.\n",
      "  if diff:\n",
      "/Users/srikanth_m07/anaconda3/lib/python3.6/site-packages/sklearn/preprocessing/label.py:151: DeprecationWarning: The truth value of an empty array is ambiguous. Returning False, but in future this will result in an error. Use `array.size > 0` to check that an array is not empty.\n",
      "  if diff:\n"
     ]
    }
   ],
   "source": [
    "### XGBoost\n",
    "xgb_clf = xgb.XGBClassifier(max_depth=7, n_estimators=1000, learning_rate=0.01, subsample=0.9, nthread=4,\n",
    "                            colsample_bytree=0.9, min_child_weight=1)\n",
    "xgb_clf.fit(X_train, y_train)\n",
    "xgb_probs1 = xgb_clf.predict(X_train)\n",
    "print('XGBoost training accuracy {}'.format(accuracy_score(y_train, xgb_probs1)))\n",
    "xgb_probs2 = xgb_clf.predict(X_test)\n",
    "print('XGBoost testing accuracy {}'.format(accuracy_score(y_test, xgb_probs2)))"
   ]
  },
  {
   "cell_type": "code",
   "execution_count": 64,
   "metadata": {},
   "outputs": [
    {
     "name": "stdout",
     "output_type": "stream",
     "text": [
      "LightGBM training accuracy 0.8388917393535146\n",
      "LightGBM testing accuracy 0.676923076923077\n"
     ]
    }
   ],
   "source": [
    "#light GBM\n",
    "param = {'num_leaves':150, 'objective':'multiclass','max_depth':9,'learning_rate':.05,'max_bin':200,'num_threads':4,\n",
    "        'num_class':3, 'metric':'multi_logloss'}\n",
    "num_round = 50\n",
    "train_data = lgb.Dataset(X_train,label=y_train)\n",
    "lgbm_clf = lgb.train(param,train_data,num_round)\n",
    "lgbm_probs1 = lgbm_clf.predict(X_train)\n",
    "lgb_scores1 = [np.argmax(line) for line in lgbm_probs1]\n",
    "print('LightGBM training accuracy {}'.format(accuracy_score(y_train, lgb_scores1)))\n",
    "lgbm_probs2 = lgbm_clf.predict(X_test)\n",
    "lgb_scores2 = [np.argmax(line) for line in lgbm_probs2]\n",
    "print('LightGBM testing accuracy {}'.format(accuracy_score(y_test, lgb_scores2)))"
   ]
  },
  {
   "cell_type": "markdown",
   "metadata": {},
   "source": [
    "#### Accuracy details after train and test split 90-10 ratio<br>\n",
    "Random Forest - train accuracy - 84.8% - test accuracy - 66%  <br>\n",
    "XGBoost       - train accuracy - 93.6% - test accuracy - 72%  <br>\n",
    "Light GBM     - train accuracy - 83.8% - test accuracy - 67%  <br>"
   ]
  },
  {
   "cell_type": "markdown",
   "metadata": {},
   "source": [
    "#### Conclusion"
   ]
  },
  {
   "attachments": {},
   "cell_type": "markdown",
   "metadata": {},
   "source": [
    "The better model overall is XGBoost and still the all the model can be improved with good amount of data. Relationship among red and white wine and features importance regarding the style is given above. By considering all these analyses will improve the quality of wine and improved market for the wine.\n"
   ]
  },
  {
   "cell_type": "code",
   "execution_count": null,
   "metadata": {
    "collapsed": true
   },
   "outputs": [],
   "source": []
  }
 ],
 "metadata": {
  "kernelspec": {
   "display_name": "Python 3",
   "language": "python",
   "name": "python3"
  },
  "language_info": {
   "codemirror_mode": {
    "name": "ipython",
    "version": 3
   },
   "file_extension": ".py",
   "mimetype": "text/x-python",
   "name": "python",
   "nbconvert_exporter": "python",
   "pygments_lexer": "ipython3",
   "version": "3.6.3"
  }
 },
 "nbformat": 4,
 "nbformat_minor": 2
}
